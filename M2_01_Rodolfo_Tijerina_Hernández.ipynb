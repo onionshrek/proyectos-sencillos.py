{
 "cells": [
  {
   "cell_type": "markdown",
   "id": "d81a4b9f",
   "metadata": {},
   "source": [
    "### 1. Ejemplo de tipo de dato:"
   ]
  },
  {
   "cell_type": "code",
   "execution_count": 1,
   "id": "829f0e48",
   "metadata": {},
   "outputs": [],
   "source": [
    "#Entero\n",
    "Entero = 2"
   ]
  },
  {
   "cell_type": "code",
   "execution_count": 2,
   "id": "472f7e85",
   "metadata": {},
   "outputs": [],
   "source": [
    "#Flotante\n",
    "pi = 3.1416"
   ]
  },
  {
   "cell_type": "code",
   "execution_count": 12,
   "id": "abd04ce6",
   "metadata": {},
   "outputs": [
    {
     "name": "stdout",
     "output_type": "stream",
     "text": [
      "Hola mundo\n"
     ]
    }
   ],
   "source": [
    "#string\n",
    "saludo = \"Hola mundo\"\n",
    "print(saludo)"
   ]
  },
  {
   "cell_type": "code",
   "execution_count": 23,
   "id": "39eb28aa",
   "metadata": {},
   "outputs": [
    {
     "name": "stdout",
     "output_type": "stream",
     "text": [
      "True\n"
     ]
    }
   ],
   "source": [
    "#Boolean\n",
    "True or False \n",
    "True and False \n",
    "not True\n",
    "\n",
    "Hacefrío = True\n",
    "Hacecalor = False\n",
    "\n",
    "print(Hacefrío or Hacecalor)"
   ]
  },
  {
   "cell_type": "markdown",
   "id": "8874bf93",
   "metadata": {},
   "source": [
    "### 2.  Ejercicio de Strings"
   ]
  },
  {
   "cell_type": "code",
   "execution_count": null,
   "id": "9bc92933",
   "metadata": {},
   "outputs": [],
   "source": [
    "#juntar nombres\n",
    "Nombre = \"Rodolfo\"\n",
    "Apellido = \"Tijerina\"\n",
    "print(Nombre + Apellido)"
   ]
  },
  {
   "cell_type": "code",
   "execution_count": 24,
   "id": "39e86c97",
   "metadata": {},
   "outputs": [
    {
     "name": "stdout",
     "output_type": "stream",
     "text": [
      "RodolfoTijerina.\n"
     ]
    }
   ],
   "source": [
    "print(Nombre + Apellido + \".\")\n"
   ]
  },
  {
   "cell_type": "code",
   "execution_count": 25,
   "id": "8a3a175f",
   "metadata": {},
   "outputs": [
    {
     "name": "stdout",
     "output_type": "stream",
     "text": [
      "RodolfoRodolfoRodolfo\n"
     ]
    }
   ],
   "source": [
    "#imprime nombre 3 veces\n",
    "print(Nombre*3)"
   ]
  },
  {
   "cell_type": "code",
   "execution_count": 26,
   "id": "fed97846",
   "metadata": {},
   "outputs": [
    {
     "data": {
      "text/plain": [
       "7"
      ]
     },
     "execution_count": 26,
     "metadata": {},
     "output_type": "execute_result"
    }
   ],
   "source": [
    "#longitud del nombre\n",
    "len(Nombre)"
   ]
  },
  {
   "cell_type": "code",
   "execution_count": 27,
   "id": "bcaab412",
   "metadata": {},
   "outputs": [
    {
     "data": {
      "text/plain": [
       "'Rodolfo'"
      ]
     },
     "execution_count": 27,
     "metadata": {},
     "output_type": "execute_result"
    }
   ],
   "source": [
    "Nombre[0:7]\n"
   ]
  },
  {
   "cell_type": "markdown",
   "id": "e6af8b7c",
   "metadata": {},
   "source": [
    "### 3. Nombre completo"
   ]
  },
  {
   "cell_type": "code",
   "execution_count": 46,
   "id": "52d2d585",
   "metadata": {},
   "outputs": [
    {
     "name": "stdout",
     "output_type": "stream",
     "text": [
      "Rodolfo Tijerina.\n"
     ]
    }
   ],
   "source": [
    "#unir variables anteriores para crear \"NombreCompleto\"\n",
    "NombreCompleto = Nombre + \" \" + Apellido + \".\"\n",
    "print(NombreCompleto)\n"
   ]
  },
  {
   "cell_type": "code",
   "execution_count": 39,
   "id": "ab11a53a",
   "metadata": {},
   "outputs": [
    {
     "name": "stdout",
     "output_type": "stream",
     "text": [
      "Mi nombre de pila es: Rodolfo\n"
     ]
    }
   ],
   "source": [
    "#separar el nombre por número de caracteres\n",
    "print (\"Mi nombre de pila es:\", NombreCompleto[0:7] )"
   ]
  }
 ],
 "metadata": {
  "kernelspec": {
   "display_name": "Python 3 (ipykernel)",
   "language": "python",
   "name": "python3"
  },
  "language_info": {
   "codemirror_mode": {
    "name": "ipython",
    "version": 3
   },
   "file_extension": ".py",
   "mimetype": "text/x-python",
   "name": "python",
   "nbconvert_exporter": "python",
   "pygments_lexer": "ipython3",
   "version": "3.9.7"
  }
 },
 "nbformat": 4,
 "nbformat_minor": 5
}
