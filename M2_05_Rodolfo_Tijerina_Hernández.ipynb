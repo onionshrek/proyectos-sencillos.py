{
 "cells": [
  {
   "cell_type": "markdown",
   "metadata": {},
   "source": [
    "# Ejercicios Modulo 2. Control de flujo\n"
   ]
  },
  {
   "cell_type": "markdown",
   "metadata": {},
   "source": [
    "## Ejercicios de control de flujo"
   ]
  },
  {
   "cell_type": "markdown",
   "metadata": {},
   "source": [
    "**1) Realiza un programa que lea tres números por teclado y permita evaluar lo siguiente:** \n",
    "* Si los números están en orden ascendente\n",
    "* Si los números no están en orden ascendente\n",
    "* Si hay un error debido a que el primer número introducido es 0\n",
    "\n",
    "__No uses listas, eso dejalo para el siguiente ejercicio__"
   ]
  },
  {
   "cell_type": "code",
   "execution_count": 5,
   "metadata": {},
   "outputs": [
    {
     "name": "stdout",
     "output_type": "stream",
     "text": [
      "Introduce 3 valores: \n",
      "Introduce valor: 2\n",
      "Introduce valor: 4\n",
      "Introduce valor: 3\n",
      "3\n"
     ]
    },
    {
     "ename": "TypeError",
     "evalue": "'int' object is not subscriptable",
     "output_type": "error",
     "traceback": [
      "\u001b[1;31m---------------------------------------------------------------------------\u001b[0m",
      "\u001b[1;31mTypeError\u001b[0m                                 Traceback (most recent call last)",
      "\u001b[1;32m~\\AppData\\Local\\Temp/ipykernel_21248/3159416953.py\u001b[0m in \u001b[0;36m<module>\u001b[1;34m\u001b[0m\n\u001b[0;32m      4\u001b[0m \u001b[0mprint\u001b[0m\u001b[1;33m(\u001b[0m\u001b[0mvalores1\u001b[0m\u001b[1;33m)\u001b[0m\u001b[1;33m\u001b[0m\u001b[1;33m\u001b[0m\u001b[0m\n\u001b[0;32m      5\u001b[0m              \u001b[1;31m#se mostrará error, ya que este método se usa con listas.\u001b[0m\u001b[1;33m\u001b[0m\u001b[1;33m\u001b[0m\u001b[0m\n\u001b[1;32m----> 6\u001b[1;33m \u001b[1;32mif\u001b[0m \u001b[0mvalores1\u001b[0m\u001b[1;33m[\u001b[0m\u001b[1;36m0\u001b[0m\u001b[1;33m]\u001b[0m \u001b[1;33m<\u001b[0m \u001b[0mvalores1\u001b[0m\u001b[1;33m[\u001b[0m\u001b[1;36m1\u001b[0m\u001b[1;33m]\u001b[0m \u001b[1;32mand\u001b[0m \u001b[0mvalores1\u001b[0m\u001b[1;33m[\u001b[0m\u001b[1;36m1\u001b[0m\u001b[1;33m]\u001b[0m \u001b[1;33m<\u001b[0m \u001b[0mvalores1\u001b[0m\u001b[1;33m[\u001b[0m\u001b[1;36m2\u001b[0m\u001b[1;33m]\u001b[0m\u001b[1;33m:\u001b[0m\u001b[1;33m\u001b[0m\u001b[1;33m\u001b[0m\u001b[0m\n\u001b[0m\u001b[0;32m      7\u001b[0m     \u001b[0mprint\u001b[0m\u001b[1;33m(\u001b[0m\u001b[1;34m\"son ascendentes los números\"\u001b[0m\u001b[1;33m)\u001b[0m\u001b[1;33m\u001b[0m\u001b[1;33m\u001b[0m\u001b[0m\n\u001b[0;32m      8\u001b[0m \u001b[1;32mif\u001b[0m \u001b[0mvalores1\u001b[0m\u001b[1;33m[\u001b[0m\u001b[1;36m0\u001b[0m\u001b[1;33m]\u001b[0m \u001b[1;33m>\u001b[0m \u001b[0mvalores1\u001b[0m\u001b[1;33m[\u001b[0m\u001b[1;36m1\u001b[0m\u001b[1;33m]\u001b[0m \u001b[1;32mand\u001b[0m \u001b[0mvalores1\u001b[0m\u001b[1;33m[\u001b[0m\u001b[1;36m1\u001b[0m\u001b[1;33m]\u001b[0m \u001b[1;33m>\u001b[0m \u001b[0mvalores1\u001b[0m\u001b[1;33m[\u001b[0m\u001b[1;36m2\u001b[0m\u001b[1;33m]\u001b[0m\u001b[1;33m:\u001b[0m\u001b[1;33m\u001b[0m\u001b[1;33m\u001b[0m\u001b[0m\n",
      "\u001b[1;31mTypeError\u001b[0m: 'int' object is not subscriptable"
     ]
    }
   ],
   "source": [
    "print(\"Introduce 3 valores: \")\n",
    "for x in range(3):\n",
    "    valores1 = int(input(\"Introduce valor: \"))\n",
    "print(valores1) \n",
    "             #se mostrará error, ya que este método se usa con listas.\n",
    "if valores1[0] < valores1[1] and valores1[1] < valores1[2]: \n",
    "    print(\"son ascendentes los números\")\n",
    "if valores1[0] > valores1[1] and valores1[1] > valores1[2]:\n",
    "    print(\"son descendentes los números\")\n",
    "elif valores1[0] == 0:\n",
    "    print(\"pero, ¿para qué le pones un 0 joven?\")"
   ]
  },
  {
   "cell_type": "markdown",
   "metadata": {},
   "source": [
    "**2) Realiza el ejercicio anterior pero introduciendo los numeros en una lista:**"
   ]
  },
  {
   "cell_type": "code",
   "execution_count": 23,
   "metadata": {},
   "outputs": [
    {
     "name": "stdout",
     "output_type": "stream",
     "text": [
      "Introduce 3 valores\n",
      "Introduzca un valor: 0 \n",
      "Introduzca un valor: 9\n",
      "Introduzca un valor: 3\n",
      "[0, 9, 3]\n",
      "pero, ¿para qué le pones un 0 joven?\n"
     ]
    }
   ],
   "source": [
    "valores2 = []\n",
    "print(\"Introduce 3 valores\")\n",
    "for x in range(3):\n",
    "    valores2.append(int(input(\"Introduzca un valor: \") ))\n",
    "print(valores2)\n",
    "\n",
    "if valores2[0] < valores2[1] and valores2[1] < valores2[2]: #evalúa si los números que indiqué van de menor a mayor\n",
    "    print(\"son ascendentes los números\")\n",
    "elif valores2[0] > valores2[1] and valores2[1] > valores2[2]: #evalúa si los números que indiqué van de mayor a menor\n",
    "    print(\"son descendentes los números\")\n",
    "elif valores2[0] == 0: #si solamenente el primer valor es 0 se muestra el mensaje\n",
    "    print(\"pero, ¿para qué le pones un 0 joven?\")\n",
    "else:\n",
    "    print(\"valores aleatorios no ordenados\") #si ninguna de las opciones pasa se muestra el mensaje"
   ]
  },
  {
   "cell_type": "markdown",
   "metadata": {},
   "source": [
    "**3) Realiza un programa que realice el sumatorio de los primeros N números, empezando en 0, y siendo N el número límite que el usuario proporciona por teclado:** \n",
    "* Ejemplo de número límite introducido por el usuario: 5\n",
    "* sumatorio = 0 + 1 + 2 + 3 + 4 (sumamos los 5 primeros números)"
   ]
  },
  {
   "cell_type": "code",
   "execution_count": 6,
   "metadata": {},
   "outputs": [
    {
     "name": "stdout",
     "output_type": "stream",
     "text": [
      "ingrese el valor final\n",
      "5\n",
      "0\n",
      "la suma es:  0\n",
      "1\n",
      "la suma es:  1\n",
      "2\n",
      "la suma es:  3\n",
      "3\n",
      "la suma es:  6\n",
      "4\n",
      "la suma es:  10\n",
      "5\n",
      "la suma es:  15\n"
     ]
    }
   ],
   "source": [
    "print(\"ingrese el valor final\")\n",
    "a = int(input())\n",
    "b = 0\n",
    "for i in range(0, a+1):\n",
    "    print(i)\n",
    "    b = b+i\n",
    "    print(\"la suma es: \", b)"
   ]
  },
  {
   "cell_type": "markdown",
   "metadata": {},
   "source": [
    "##### **4) Realiza un programa que lea letras y cuente con una variable contador las letras \"a\" que se introducen. Para salir del programa, introducir el carácter \".\". Al finalizar mostrar el número de veces que se ha pulsado la letra \"a\".**"
   ]
  },
  {
   "cell_type": "code",
   "execution_count": 3,
   "metadata": {},
   "outputs": [
    {
     "name": "stdout",
     "output_type": "stream",
     "text": [
      "introduce una letra: h\n",
      "introduce una letra: o\n",
      "introduce una letra: l\n",
      "introduce una letra: a\n",
      "introduce una letra: c\n",
      "introduce una letra: o\n",
      "introduce una letra: m\n",
      "introduce una letra: o\n",
      "introduce una letra: e\n",
      "introduce una letra: s\n",
      "introduce una letra: t\n",
      "introduce una letra: a\n",
      "introduce una letra: s\n",
      "introduce una letra: .\n",
      "la letra 'a' se ha introducido 2 veces\n"
     ]
    }
   ],
   "source": [
    "contador=0\n",
    "while True:\n",
    "    letra=input(\"introduce una letra: \")\n",
    "    if letra==\"a\" or letra == \"A\":\n",
    "        contador+=1\n",
    "    elif letra==\".\":\n",
    "        break\n",
    "print(f\"la letra 'a' se ha introducido {contador} veces\")"
   ]
  },
  {
   "cell_type": "code",
   "execution_count": 2,
   "metadata": {},
   "outputs": [
    {
     "name": "stdout",
     "output_type": "stream",
     "text": [
      "introduce una palabra: sus\n",
      "La cantidad de As en la oración son:  0\n"
     ]
    }
   ],
   "source": [
    "#opción del ejercicio en oraciones (lo puse para ver como quedaba a lado del otro)\n",
    "texto = str(input(\"introduce una palabra: \"))\n",
    "contador = 0 \n",
    "for letra in texto:\n",
    "    if letra == \"A\" or letra == \"a\":\n",
    "        contador += 1\n",
    "        print(letra)\n",
    "print(\"La cantidad de As en la oración son: \", contador)"
   ]
  },
  {
   "cell_type": "markdown",
   "metadata": {},
   "source": [
    "**5) Realiza el sumatorio de los números pares comprendidos entre 1000 y 73 (en este orden, yendo hacia atrás). Implementa esta solución con un bucle for o while:**"
   ]
  },
  {
   "cell_type": "code",
   "execution_count": 1,
   "metadata": {},
   "outputs": [
    {
     "name": "stdout",
     "output_type": "stream",
     "text": [
      "valor inicial 1000\n",
      "valor final 73\n",
      "dirección -1\n",
      "la suma de los números pares en el rango es:  249168\n"
     ]
    }
   ],
   "source": [
    "inicio = int(input(\"valor inicial \"))\n",
    "fin = int(input(\"valor final \"))\n",
    "dirección = int(input(\"dirección \"))\n",
    "suma = sum([i for i in range(inicio, fin, dirección) if i%2==0])\n",
    "print(\"la suma de los números pares en el rango es: \", suma)"
   ]
  },
  {
   "cell_type": "markdown",
   "metadata": {},
   "source": [
    "**6) Realiza un programa que solicite al usuario un número que representa el total de números que se van a introducir. Posteriormente leer todos esos números, meterlos en una lista y realizar:**\n",
    "* La ordenación de la lista de menor a mayor\n",
    "* Indicar el promedio de la lista\n",
    "* Indicar el valor máximo y el valor mínimo y en que posiciones se encuentran"
   ]
  },
  {
   "cell_type": "code",
   "execution_count": 18,
   "metadata": {},
   "outputs": [
    {
     "name": "stdout",
     "output_type": "stream",
     "text": [
      "ingrese el valor final (N)\n",
      "10\n",
      "Introduce los 10 valores\n",
      "Introduzca un valor: 9\n",
      "Introduzca un valor: 7\n",
      "Introduzca un valor: 4\n",
      "Introduzca un valor: 2\n",
      "Introduzca un valor: 6\n",
      "Introduzca un valor: 7\n",
      "Introduzca un valor: 9\n",
      "Introduzca un valor: 10\n",
      "Introduzca un valor: 8\n",
      "Introduzca un valor: 4\n",
      "lista sin ordenar : [9, 7, 4, 2, 6, 7, 9, 10, 8, 4]\n",
      "------------------------------------------------\n",
      "Ahora ordenados de menor a mayor:  [2, 4, 4, 6, 7, 7, 8, 9, 9, 10]\n",
      "el promedio de los valores es: 6.6\n",
      "el valor máximo es: 10 y el valor mínimo es: 2\n"
     ]
    }
   ],
   "source": [
    "print(\"ingrese el valor final (N)\")\n",
    "N = int(input())    \n",
    "valores = []\n",
    "print(\"Introduce los {} valores\".format (N))\n",
    "for x in range(N):\n",
    "    valores.append(int(input(\"Introduzca un valor: \") ))\n",
    "print(\"lista sin ordenar :\", valores)\n",
    "print(\"------------------------------------------------\")\n",
    "valores.sort()\n",
    "print(\"Ahora ordenados de menor a mayor: \",valores)\n",
    "promedio = sum(valores) / N\n",
    "print(\"el promedio de los valores es:\", promedio)\n",
    "valorMax = valores[N-1]\n",
    "valorMin = valores[0]\n",
    "print(\"el valor máximo es:\", valorMax,  \"y el valor mínimo es:\", valorMin)"
   ]
  },
  {
   "cell_type": "markdown",
   "metadata": {},
   "source": [
    "**7) Crea una lista de palabras, recorre la lista y muestra cada palabra junto con su longitud. Al final, indicar cual fue la palabra con más caracteres.**"
   ]
  },
  {
   "cell_type": "code",
   "execution_count": 9,
   "metadata": {},
   "outputs": [
    {
     "name": "stdout",
     "output_type": "stream",
     "text": [
      "ingresa  el número de palabras que quieras\n",
      "3\n",
      "Introduce las 3 palabras que escogiste\n",
      "Introduzca una palabra: hola\n",
      "Introduzca una palabra: cómo\n",
      "Introduzca una palabra: estás\n",
      "lista sin ordenar : ['hola', 'cómo', 'estás']\n",
      "------------------------------------------------\n",
      "Ahora ordenamos en orden alfabético: \n",
      "['cómo', 'estás', 'hola']\n",
      "[4, 5, 4]\n",
      "la palabra más larga introducida es:  estás\n"
     ]
    }
   ],
   "source": [
    "print(\"ingresa  el número de palabras que quieras\")\n",
    "P = int(input())    \n",
    "palabras = []\n",
    "print(\"Introduce las {} palabras que escogiste\".format (P))\n",
    "for x in range(P):\n",
    "    palabras.append(str(input(\"Introduzca una palabra: \") ))\n",
    "print(\"lista sin ordenar :\", palabras)\n",
    "print(\"------------------------------------------------\")\n",
    "palabras.sort()\n",
    "Palen = list(map(len, palabras))\n",
    "print(\"Ahora ordenamos en orden alfabético: \")\n",
    "print(palabras)\n",
    "print(Palen)\n",
    "#método para sacar la palabra más larga\n",
    "def PML(palabras):\n",
    "    palabra_longitud=[]\n",
    "    for p in palabras:\n",
    "        palabra_longitud.append((len(p), p))\n",
    "    palabra_longitud.sort()\n",
    "    return palabra_longitud[-1][1]\n",
    "print(\"la palabra más larga introducida es: \", PML(palabras))"
   ]
  },
  {
   "cell_type": "markdown",
   "metadata": {},
   "source": [
    "**8) Crea un menú con esta forma:**\n",
    "```python\n",
    "MENU COMPRA-VENTA\n",
    "    1. Comprar\n",
    "    2. Vender\n",
    "    3. Alquilar\n",
    "    4. Mostrar listas de datos\n",
    "    5. Salir\n",
    "    Introduzca que desea hacer(1-4): \n",
    "```\n",
    "* Si se selecciona la opción 1 preguntaremos al usuario que quiere comprar y después de que el usuario lo haya introducido se guardará en una lista destinada a las compras y se volverá al menú principal.\n",
    "* Si se selecciona la opción 2 preguntaremos al usuario que quiere vender y después de que el usuario lo haya introducido se guardará en una lista destinada a las ventas y se volverá al menú principal.\n",
    "* Si se selecciona la opción 3 preguntaremos al usuario que quiere alquilar y después de que el usuario lo haya introducido se guardará en una lista destinada a los alquileres y se volverá al menú principal.\n",
    "* Si se selecciona la opción 4 se mostrarán todas las listas.\n",
    "* Si se selecciona la opción 5 saldremos del bucle."
   ]
  },
  {
   "cell_type": "code",
   "execution_count": 3,
   "metadata": {},
   "outputs": [
    {
     "name": "stdout",
     "output_type": "stream",
     "text": [
      "MENÚ COMPRA-VENTA\n",
      "¿Qué quieres hacer? Escribe una opción\n",
      "    1) Comprar\n",
      "    2) Vender\n",
      "    3) Alquilar\n",
      "    4) Mostrar listas de datos\n",
      "    5) Salir\n",
      "opción: 1\n",
      "¿Qué desea comprar?\n",
      "una pc gamer\n",
      "¿Qué quieres hacer? Escribe una opción\n",
      "    1) Comprar\n",
      "    2) Vender\n",
      "    3) Alquilar\n",
      "    4) Mostrar listas de datos\n",
      "    5) Salir\n",
      "opción: 2\n",
      "¿Qué desea vender?\n",
      "mi riñón\n",
      "¿Qué quieres hacer? Escribe una opción\n",
      "    1) Comprar\n",
      "    2) Vender\n",
      "    3) Alquilar\n",
      "    4) Mostrar listas de datos\n",
      "    5) Salir\n",
      "opción: 3\n",
      "¿Qué desea alquilar?\n",
      "un departamento\n",
      "¿Qué quieres hacer? Escribe una opción\n",
      "    1) Comprar\n",
      "    2) Vender\n",
      "    3) Alquilar\n",
      "    4) Mostrar listas de datos\n",
      "    5) Salir\n",
      "opción: 1\n",
      "¿Qué desea comprar?\n",
      "un carro\n",
      "¿Qué quieres hacer? Escribe una opción\n",
      "    1) Comprar\n",
      "    2) Vender\n",
      "    3) Alquilar\n",
      "    4) Mostrar listas de datos\n",
      "    5) Salir\n",
      "opción: 2\n",
      "¿Qué desea vender?\n",
      "mis sueños y anhelos\n",
      "¿Qué quieres hacer? Escribe una opción\n",
      "    1) Comprar\n",
      "    2) Vender\n",
      "    3) Alquilar\n",
      "    4) Mostrar listas de datos\n",
      "    5) Salir\n",
      "opción: 4\n",
      "Mostrando Listas\n",
      "------------------------------------------------\n",
      "\n",
      "        Compras: ['una pc gamer', 'un carro']\n",
      "        Ventas:  ['mi riñón', 'mis sueños y anhelos'] \n",
      "        Alquileres: ['un departamento']\n",
      "------------------------------------------------\n",
      "¿Qué quieres hacer? Escribe una opción\n",
      "    1) Comprar\n",
      "    2) Vender\n",
      "    3) Alquilar\n",
      "    4) Mostrar listas de datos\n",
      "    5) Salir\n",
      "opción: 5\n",
      "¡Hasta luego! Ha sido un placer ayudarte\n"
     ]
    }
   ],
   "source": [
    "pago =[]\n",
    "com = []\n",
    "ven = []\n",
    "ren = []\n",
    "list\n",
    "print(\"MENÚ COMPRA-VENTA\")\n",
    "while(True):\n",
    "    print(\"\"\"¿Qué quieres hacer? Escribe una opción\n",
    "    1) Comprar\n",
    "    2) Vender\n",
    "    3) Alquilar\n",
    "    4) Mostrar listas de datos\n",
    "    5) Salir\"\"\")\n",
    "    opcion = input(\"opción: \")\n",
    "    if opcion == '1':\n",
    "        print(\"¿Qué desea comprar?\")\n",
    "        com.append(str(input()))\n",
    "    elif opcion == '2':\n",
    "        print(\"¿Qué desea vender?\")\n",
    "        ven.append(str(input()))\n",
    "    elif opcion == '3':\n",
    "        print(\"¿Qué desea alquilar?\")\n",
    "        ren.append(str(input()))\n",
    "    elif opcion == '4':\n",
    "        print(\"Mostrando Listas\")\n",
    "        print(\"------------------------------------------------\")\n",
    "        print(\"\"\"\n",
    "        Compras: {r}\n",
    "        Ventas:  {v} \n",
    "        Alquileres: {a}\"\"\".format(r=com, v=ven, a=ren))\n",
    "        print(\"------------------------------------------------\")\n",
    "    elif opcion =='5':\n",
    "        print(\"¡Hasta luego! Ha sido un placer ayudarte\")\n",
    "        break\n",
    "    else:\n",
    "        print(\"Comando desconocido, vuelve a intentarlo\")"
   ]
  },
  {
   "cell_type": "markdown",
   "metadata": {},
   "source": [
    "**9) Realiza un programa que realice las siguientes tareas:**\n",
    "* __Paso 1__) solicite al usuario una contraseña y la guarde en una variable \n",
    "* __Paso 2__) pida al usuario introducir la contraseña para loguearse\n",
    "    * si la contraseña es correcta mostramos \"__Login correcto__\"\n",
    "    * si la contraseña no es correcta se le tendrá que mostrar un mensaje de \"__Login fallido. Intento 1__\", donde 1 será una variable contador que irá incrementandose hasta llegar a __5__. En ese punto __reiniciamos el programa y volveremos al Paso 1__"
   ]
  },
  {
   "cell_type": "code",
   "execution_count": null,
   "metadata": {},
   "outputs": [],
   "source": [
    "usuario = input()\n",
    "contraseña = input()"
   ]
  },
  {
   "cell_type": "code",
   "execution_count": 1,
   "metadata": {},
   "outputs": [
    {
     "name": "stdout",
     "output_type": "stream",
     "text": [
      "Usuario: don pepe\n",
      "¡Bienvenido don pepe!\n",
      "Introduzca su nueva contraseña: ironía\n",
      "Para acceder introduzca su contraseña: sus\n",
      "Login fallido. Intento 1/5)\n",
      "Para acceder introduzca su contraseña: xd\n",
      "Login fallido. Intento 2/5)\n",
      "Para acceder introduzca su contraseña: hola\n",
      "Login fallido. Intento 3/5)\n",
      "Para acceder introduzca su contraseña: contraseña\n",
      "Login fallido. Intento 4/5)\n",
      "Para acceder introduzca su contraseña: matenme\n",
      "Login fallido. Intento 5/5)\n",
      "Usuario: don pepe\n",
      "¡Bienvenido don pepe!\n",
      "Introduzca su nueva contraseña: ironía\n",
      "Para acceder introduzca su contraseña: ironía\n",
      "Login correcto, gracias\n"
     ]
    }
   ],
   "source": [
    "while True:\n",
    "    user = input(\"Usuario: \")\n",
    "    password = input(\"¡Bienvenido {}!\\nIntroduzca su nueva contraseña: \".format(user))\n",
    "    user_password = password\n",
    "    for i in range(5):                                         \n",
    "        login = input(\"Para acceder introduzca su contraseña: \")\n",
    "        if login == password:                                \n",
    "            print(\"Login correcto, gracias\")                \n",
    "            break\n",
    "        else:                                         \n",
    "            fallos = i+1                              \n",
    "            print(f\"Login fallido. Intento {fallos}/5)\")\n",
    "    if login == password:        \n",
    "        break"
   ]
  },
  {
   "cell_type": "code",
   "execution_count": null,
   "metadata": {},
   "outputs": [],
   "source": []
  }
 ],
 "metadata": {
  "anaconda-cloud": {},
  "kernelspec": {
   "display_name": "Python 3 (ipykernel)",
   "language": "python",
   "name": "python3"
  },
  "language_info": {
   "codemirror_mode": {
    "name": "ipython",
    "version": 3
   },
   "file_extension": ".py",
   "mimetype": "text/x-python",
   "name": "python",
   "nbconvert_exporter": "python",
   "pygments_lexer": "ipython3",
   "version": "3.9.7"
  }
 },
 "nbformat": 4,
 "nbformat_minor": 1
}
