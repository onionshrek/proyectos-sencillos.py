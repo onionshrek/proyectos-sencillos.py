{
 "cells": [
  {
   "cell_type": "markdown",
   "metadata": {},
   "source": [
    "# Ejercicios Modulo 2. Entrada y salida de datos\n",
    "\n"
   ]
  },
  {
   "cell_type": "markdown",
   "metadata": {},
   "source": [
    "## Ejercicios de entrada y salida"
   ]
  },
  {
   "cell_type": "markdown",
   "metadata": {},
   "source": [
    "**1) Utiliza el método input() para realizar las siguientes tareas:**\n",
    "\n",
    "* Pide un número por teclado, muestra el resultado y su tipo (para conocer en que tipo de dato captura la información input())\n",
    "* Pide un número por teclado y asegurate de que capturemos la información en formato int\n",
    "* Pide un número por teclado y asegurate de que capturemos la información en formato float\n",
    "\n",
    "__Comprobar con type que los datos son del tipo correcto__"
   ]
  },
  {
   "cell_type": "code",
   "execution_count": 1,
   "metadata": {},
   "outputs": [
    {
     "name": "stdout",
     "output_type": "stream",
     "text": [
      "Introduce un número entero: 5\n",
      "<class 'str'>\n"
     ]
    }
   ],
   "source": [
    "num1 = input(\"Introduce un número entero: \")\n",
    "print(type(num1)) "
   ]
  },
  {
   "cell_type": "code",
   "execution_count": 11,
   "metadata": {},
   "outputs": [
    {
     "name": "stdout",
     "output_type": "stream",
     "text": [
      "Introduce un número entero: 5\n",
      "<class 'int'> tu número es entero\n"
     ]
    }
   ],
   "source": [
    "num2 = int( input(\"Introduce un número entero: \"))\n",
    "print(type(num2), \"tu número es entero\")    "
   ]
  },
  {
   "cell_type": "code",
   "execution_count": 13,
   "metadata": {},
   "outputs": [
    {
     "name": "stdout",
     "output_type": "stream",
     "text": [
      "Introduce un número con decimales: 4.5\n",
      "<class 'float'> tu número tiene decimales\n"
     ]
    }
   ],
   "source": [
    "num3 = float ( input(\"Introduce un número con decimales: \"))\n",
    "print(type(num3), \"tu número tiene decimales\")    "
   ]
  },
  {
   "cell_type": "markdown",
   "metadata": {},
   "source": [
    "**2) Vamos a formatear números:**\n",
    "\n",
    "* Pide un numero entero por teclado\n",
    "* Muéstralo con el formato de 5 dígitos rellenos con 0s por delante\n",
    "* Pide un número flotante por teclado\n",
    "* Muéstralo con 5 dígitos para la parte entera y 3 dígitos para la parte decimal"
   ]
  },
  {
   "cell_type": "code",
   "execution_count": 16,
   "metadata": {},
   "outputs": [
    {
     "name": "stdout",
     "output_type": "stream",
     "text": [
      "Introduce un número entero: 5\n",
      "000005\n"
     ]
    }
   ],
   "source": [
    "num4 = int (input(\"Introduce un número entero: \"))\n",
    "print(\"{:06d}\".format(num4))"
   ]
  },
  {
   "cell_type": "code",
   "execution_count": 41,
   "metadata": {},
   "outputs": [
    {
     "name": "stdout",
     "output_type": "stream",
     "text": [
      "Introduce un número decimal: 5\n",
      "00005.000\n"
     ]
    }
   ],
   "source": [
    "num5 = float (input(\"Introduce un número decimal: \"))\n",
    "print(\"{:09.3f}\".format(num5))"
   ]
  },
  {
   "cell_type": "markdown",
   "metadata": {},
   "source": [
    "**3) Vamos a ponernos creativos. ¿Cuántas formas tienes de mostrar esta información?**<bR>\n",
    "<code>La altura es de 1,80 metros y el peso es de 80,135 KG</code>\n",
    "    \n",
    "Siendo la altura y el peso dos variables que se recojan con 2 inputs\n",
    "    \n",
    "__Pista: format() se puede usar de varias formas__"
   ]
  },
  {
   "cell_type": "code",
   "execution_count": 51,
   "metadata": {},
   "outputs": [
    {
     "name": "stdout",
     "output_type": "stream",
     "text": [
      "¿cuanto pesas?: 80.135 kg\n",
      "¿cuanto mides?: 1.80 mts\n",
      "Andas muy sus, pesas 80.135 kg y apenas mides 1.80 mts\n"
     ]
    }
   ],
   "source": [
    "#forma 1\n",
    "peso = (input(\"¿cuanto pesas?: \"))\n",
    "altura = (input(\"¿cuanto mides?: \"))\n",
    "print(\"Andas muy sus, pesas {p} y apenas mides {a}\".format(p = peso,a = altura) )"
   ]
  },
  {
   "cell_type": "code",
   "execution_count": 50,
   "metadata": {},
   "outputs": [
    {
     "name": "stdout",
     "output_type": "stream",
     "text": [
      "¿Cómo te llamas?: pepe\n",
      "¿cuanto pesas?: 80.135 kg\n",
      "¿cuanto mides?: 1.80 mts\n",
      "pepe \n",
      " Peso: 80.135 kg \n",
      " altura: 1.80 mts\n"
     ]
    }
   ],
   "source": [
    "#forma 2\n",
    "nombre = str(input(\"¿Cómo te llamas?: \"))\n",
    "peso = (input(\"¿cuanto pesas?: \"))\n",
    "altura = (input(\"¿cuanto mides?: \"))\n",
    "print (\"{n} \\n Peso: {p} \\n altura: {a}\".format(n= nombre, p = peso, a = altura) )"
   ]
  },
  {
   "cell_type": "code",
   "execution_count": null,
   "metadata": {},
   "outputs": [],
   "source": []
  }
 ],
 "metadata": {
  "anaconda-cloud": {},
  "kernelspec": {
   "display_name": "Python 3 (ipykernel)",
   "language": "python",
   "name": "python3"
  },
  "language_info": {
   "codemirror_mode": {
    "name": "ipython",
    "version": 3
   },
   "file_extension": ".py",
   "mimetype": "text/x-python",
   "name": "python",
   "nbconvert_exporter": "python",
   "pygments_lexer": "ipython3",
   "version": "3.9.7"
  }
 },
 "nbformat": 4,
 "nbformat_minor": 1
}
