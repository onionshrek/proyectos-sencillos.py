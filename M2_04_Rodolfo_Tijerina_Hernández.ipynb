{
 "cells": [
  {
   "cell_type": "markdown",
   "metadata": {},
   "source": [
    "# Ejercicios Modulo 2. Tipos avanzados\n",
    "\n",
    "Consideraciones a tener en cuenta: \n",
    "\n",
    "* Guardar este documento con el siguiente formato para su entrega: __M2_04_nombre_apellido1_apellido2__\n",
    "* Realizar los ejercicios con las herramientas vistas en las sesiones. Aún no hemos llegado a condicionales ni bucles\n",
    "* Comentar el código\n",
    "* Utilizar nombres de variables apropiados, si vais a guardar una nota, llamar a esa variable nota, no n o x"
   ]
  },
  {
   "cell_type": "markdown",
   "metadata": {},
   "source": [
    "## Ejercicios de tipos avanzados"
   ]
  },
  {
   "cell_type": "markdown",
   "metadata": {},
   "source": [
    "**1) Trabajemos con listas y tuplas**\n",
    "* Crea una lista y una tupla que contenga strings (al menos 3 elementos). Tematica libre, sobre lo que quieras, vehiculos, comida, música, etc.\n",
    "* Muestra la lista y la tupla\n",
    "* Muestra el 2º elemento de la lista y el penúltimo de la tupla\n",
    "* Modifica (si se puede) algún elemento de la lista y de la tupla. Y mostrar el resultado\n",
    "* Muestra el tamaño de la lista y de la tupla\n",
    "* Realiza una búsqueda de un elemento dentro de la lista y de la tupla. Mostrar si devuelve True o False\n",
    "* Añade (si se puede) algún elemento a la lista y a la tupla. Mostrar de nuevo la lista y la tupla para verificar si se ha realizado correctamente la acción.\n",
    "* Borra o elimina (si se puede) el contenido de la lista y de la tupla. Mosstrar de nuevo la lista y la tupla para verificar si se ha realizado correctamente la acción\n",
    "\n"
   ]
  },
  {
   "cell_type": "code",
   "execution_count": 1,
   "metadata": {},
   "outputs": [
    {
     "name": "stdout",
     "output_type": "stream",
     "text": [
      "¿Quién le ganó a quien?\n",
      "E.U.A. Fulminó a: Japón\n",
      "número de países que conforman en esta lista:  4\n",
      "número de países que conforman en esta tupla:  3\n"
     ]
    }
   ],
   "source": [
    "FuerzasDelEje = (\"Alemania\", \"Japón\", \"Italia\")\n",
    "LosAliados = [\"Inglaterra\", \"E.U.A.\", \"U.R.S.S.\", \"Francia\"]\n",
    "print(\"¿Quién le ganó a quien?\")\n",
    "print(LosAliados[(1)], \"Fulminó a:\", #mostrar el segundo elemento de la lista\n",
    "      FuerzasDelEje[-2]) #mostrar el penúltimo elemento de la tupla\n",
    "print(\"número de países que conforman en esta lista: \", len(LosAliados))\n",
    "print(\"número de países que conforman en esta tupla: \", len(FuerzasDelEje))"
   ]
  },
  {
   "cell_type": "code",
   "execution_count": 51,
   "metadata": {},
   "outputs": [
    {
     "data": {
      "text/plain": [
       "True"
      ]
     },
     "execution_count": 51,
     "metadata": {},
     "output_type": "execute_result"
    }
   ],
   "source": [
    "\"E.U.A.\" in LosAliados "
   ]
  },
  {
   "cell_type": "code",
   "execution_count": 52,
   "metadata": {},
   "outputs": [
    {
     "data": {
      "text/plain": [
       "True"
      ]
     },
     "execution_count": 52,
     "metadata": {},
     "output_type": "execute_result"
    }
   ],
   "source": [
    "\"Alemania\" in FuerzasDelEje "
   ]
  },
  {
   "cell_type": "code",
   "execution_count": 2,
   "metadata": {},
   "outputs": [
    {
     "name": "stdout",
     "output_type": "stream",
     "text": [
      "['Inglaterra', 'E.U.A.', 'U.R.S.S.', 'Francia', 'polonia']\n"
     ]
    }
   ],
   "source": [
    "LosAliados.append (\"polonia\") #agrego país\n",
    "print(LosAliados) "
   ]
  },
  {
   "cell_type": "code",
   "execution_count": 3,
   "metadata": {},
   "outputs": [
    {
     "name": "stdout",
     "output_type": "stream",
     "text": [
      "Los países que verdaderamente ayudaron en la guerra ['Inglaterra', 'E.U.A.', 'U.R.S.S.', 'China', 'polonia']\n"
     ]
    }
   ],
   "source": [
    "LosAliados[-2] = \"China\" #modificar lista\n",
    "print(\"Los países que verdaderamente ayudaron en la guerra\", LosAliados)"
   ]
  },
  {
   "cell_type": "code",
   "execution_count": 46,
   "metadata": {},
   "outputs": [
    {
     "ename": "TypeError",
     "evalue": "'int' object does not support item assignment",
     "output_type": "error",
     "traceback": [
      "\u001b[1;31m---------------------------------------------------------------------------\u001b[0m",
      "\u001b[1;31mTypeError\u001b[0m                                 Traceback (most recent call last)",
      "\u001b[1;32m~\\AppData\\Local\\Temp/ipykernel_24072/2305787219.py\u001b[0m in \u001b[0;36m<module>\u001b[1;34m\u001b[0m\n\u001b[1;32m----> 1\u001b[1;33m \u001b[0mFuerzasDelEje\u001b[0m\u001b[1;33m[\u001b[0m\u001b[1;36m1\u001b[0m\u001b[1;33m:\u001b[0m\u001b[1;36m2\u001b[0m\u001b[1;33m]\u001b[0m \u001b[1;33m=\u001b[0m \u001b[1;33m(\u001b[0m\u001b[1;33m)\u001b[0m \u001b[1;31m#se muestra error, ya que una tupla no puede modificarse\u001b[0m\u001b[1;33m\u001b[0m\u001b[1;33m\u001b[0m\u001b[0m\n\u001b[0m",
      "\u001b[1;31mTypeError\u001b[0m: 'int' object does not support item assignment"
     ]
    }
   ],
   "source": [
    "FuerzasDelEje[1:2] = () #se muestra error, ya que una tupla no puede modificarse"
   ]
  },
  {
   "cell_type": "code",
   "execution_count": 41,
   "metadata": {},
   "outputs": [],
   "source": [
    "LosAliados = []"
   ]
  },
  {
   "cell_type": "code",
   "execution_count": 42,
   "metadata": {},
   "outputs": [
    {
     "name": "stdout",
     "output_type": "stream",
     "text": [
      "[]\n"
     ]
    }
   ],
   "source": [
    "print(LosAliados)"
   ]
  },
  {
   "cell_type": "code",
   "execution_count": 45,
   "metadata": {},
   "outputs": [],
   "source": [
    "FuerzasDelEje = ()"
   ]
  },
  {
   "cell_type": "code",
   "execution_count": 44,
   "metadata": {},
   "outputs": [
    {
     "name": "stdout",
     "output_type": "stream",
     "text": [
      "()\n"
     ]
    }
   ],
   "source": [
    "print(FuerzasDelEje)"
   ]
  },
  {
   "cell_type": "markdown",
   "metadata": {},
   "source": [
    "**2) Trabajemos con sets y diccionarios**\n",
    "* Crea una set y un diccionario que contengan strings (al menos 3 elementos en el caso del set y 3 conjuntos de clave:valor en el caso del diccionario). Tematica libre, sobre lo que quieras, vehiculos, comida, música, etc.\n",
    "* Muestra el set y el diccionario\n",
    "* Muestra (si se puede) el 2º elemento del set y el valor del primer clave-valor del diccionario\n",
    "* Modifica (si se puede) algún elemento del set o del diccionario. Y mostrar el resultado\n",
    "* Muestra el tamaño del set y del diccionario\n",
    "* Realiza una búsqueda de un elemento dentro del set y dentro del diccionario. Mostrar si devuelve True o False\n",
    "* Añade (si se puede) algún elemento al set y algun clave-valor al diccionario. Mostrar de nuevo el set y el diccionario para verificar si se ha realizado correctamente la acción.\n",
    "* Borra o elimina (si se puede) el contenido del set y del diccionario. Mosstrar de nuevo el set y el diccionario para verificar si se ha realizado correctamente la acción\n",
    "\n"
   ]
  },
  {
   "cell_type": "code",
   "execution_count": 24,
   "metadata": {},
   "outputs": [
    {
     "name": "stdout",
     "output_type": "stream",
     "text": [
      "{'o', 'u', 'e', 'a', 'i'}\n",
      "está 'e' dentro de mi conjunto?:  True\n",
      "<class 'set'>\n",
      "{'o', 'u', 'e', 'c', 'a', 'g', 'd', 'b', 'i', 'f'}\n",
      "el abecedario consta de: 10 valores\n"
     ]
    }
   ],
   "source": [
    "#Conjuntos\n",
    "vocales = {\"a\",\"e\",\"i\",\"o\",\"u\"} \n",
    "print(vocales)\n",
    "print(\"está 'e' dentro de mi conjunto?: \", \"e\" in vocales) #Segundo elemento del set.\n",
    "#Ya que no puedo mostrar específicamente mi segundo elemento, puedo preguntar si está ahí.\n",
    "print(type(vocales))\n",
    "consonantes = {\"b\", \"c\", \"d\", \"f\", \"g\"}\n",
    "abecedario = (vocales | consonantes)\n",
    "print(abecedario)\n",
    "print(\"el abecedario consta de:\", len(abecedario), \"valores\")"
   ]
  },
  {
   "cell_type": "code",
   "execution_count": 33,
   "metadata": {},
   "outputs": [
    {
     "name": "stdout",
     "output_type": "stream",
     "text": [
      "set()\n"
     ]
    }
   ],
   "source": [
    "vocales.clear()\n",
    "print(vocales)"
   ]
  },
  {
   "cell_type": "code",
   "execution_count": 36,
   "metadata": {},
   "outputs": [
    {
     "name": "stdout",
     "output_type": "stream",
     "text": [
      "{'género': 'Ciencia ficción', 'autor': 'George Orwell', 'título': 1984}\n",
      "<class 'dict'>\n",
      "el genero que te interesa es : Ciencia ficción\n",
      "el bibliotecario cuenta con: 3 etiquetas posibles\n",
      "{'género': 'Ciencia ficción', 'autor': 'George Orwell', 'título': 1984, 'año de publicación': '1949'}\n",
      "está 'año de publicación' dentro de mi conjunto?:  True\n"
     ]
    }
   ],
   "source": [
    "#diccionario \n",
    "libros = {\"género\": \"Ciencia ficción\", \"autor\": \"George Orwell\", \"título\": 1984}\n",
    "print(libros)\n",
    "print(type(libros))\n",
    "valorQueMeInteresa = libros[\"género\"]\n",
    "print(\"el genero que te interesa es :\", (valorQueMeInteresa))\n",
    "print(\"el bibliotecario cuenta con:\", len(libros), \"etiquetas posibles\")\n",
    "año = {\"año de publicación\": \"1949\"}\n",
    "libros = (libros | año)\n",
    "print(libros)\n",
    "print(\"está 'año de publicación' dentro de mi conjunto?: \", \"año de publicación\" in libros)"
   ]
  },
  {
   "cell_type": "code",
   "execution_count": 35,
   "metadata": {},
   "outputs": [
    {
     "name": "stdout",
     "output_type": "stream",
     "text": [
      "{}\n"
     ]
    }
   ],
   "source": [
    "libros.clear()\n",
    "print(libros)"
   ]
  },
  {
   "cell_type": "markdown",
   "metadata": {},
   "source": [
    "**3) Realizar un programa que pida al usuario 3 números que pueden ser flotantes (no es necesario realizar bucles aún, podemos repetir el código), estos números se deberán introducir en una lista. Cuando se haya finalizado la introducción de los datos, se mostrará el sumatorio de toda la lista. Guardar el sumatorio en una variable que se llame \"sumatorio\"**\n",
    "\n",
    "*Ayuda: Existe una función llamada sum(lista) ¡Pruébalo!*"
   ]
  },
  {
   "cell_type": "code",
   "execution_count": 10,
   "metadata": {},
   "outputs": [
    {
     "name": "stdout",
     "output_type": "stream",
     "text": [
      "Introduce 3 valores\n",
      "Introduzca un valor: 2\n",
      "Introduzca un valor: 4\n",
      "Introduzca un valor: 6\n",
      "si los sumamos entre sí serían: 12.0\n"
     ]
    }
   ],
   "source": [
    "valores = []\n",
    "print(\"Introduce 3 valores\")\n",
    "for x in range(3):\n",
    "    valores.append( float(input(\"Introduzca un valor: \") )) #establece que se introduzcan floats.\n",
    "sumatorio = sum(valores)\n",
    "print(\"si los sumamos entre sí serían:\", sumatorio) #imprime el sumatorio"
   ]
  },
  {
   "cell_type": "markdown",
   "metadata": {},
   "source": [
    "**4) Sobre el ejercicio anterior, queremos mostrar la media aritmética de los elementos de esa lista. Indicar la instrucción necesaria para obtenerla.**\n",
    "\n",
    "*En este caso sabemos que el número de elementos que ha introducido el usuario es 3, pero en otra ocasión podría ser diferente, por lo tanto, no hagáis referencia al número 3 en ningún sitio*"
   ]
  },
  {
   "cell_type": "code",
   "execution_count": 17,
   "metadata": {},
   "outputs": [
    {
     "name": "stdout",
     "output_type": "stream",
     "text": [
      "Introduce 5 valores\n",
      "Introduzca un valor: 6\n",
      "Introduzca un valor: 7\n",
      "Introduzca un valor: 8.5\n",
      "Introduzca un valor: 5\n",
      "Introduzca un valor: 9\n",
      "el promedio es: 7.1\n"
     ]
    }
   ],
   "source": [
    "valores = []\n",
    "print(\"Introduce 5 valores\")\n",
    "for x in range(5):\n",
    "    valores.append( float(input(\"Introduzca un valor: \") )) #establece que se introduzcan floats.\n",
    "cantidad = len(valores) #mide la cantidad de valores que hay\n",
    "media = sum(valores) / cantidad #saca el promedio del sumatorio\n",
    "print(\"el promedio es:\", media)"
   ]
  },
  {
   "cell_type": "markdown",
   "metadata": {},
   "source": [
    "**5) Dada la siguiente matriz de notas (una matriz es una lista de listas anidadas) se observa que cada fila es un listado de notas de un alumno, donde en la última posición de cada lista se encuentra el sumatorio de todas las notas anteriores de esa lista. Pero apreciamos que hay varios errores en los sumatorios de varios alumnos, utilizar la técnica de slicing para acceder a estas posiciones y modificar los valores erroneos de la forma más automatizada posible.**\n",
    "\n",
    "* No vale poner directamente los valores:\n",
    "```python\n",
    "notas[1][3] = 60\n",
    "notas[3][3] = 120\n",
    "```\n",
    "* Hay que buscar una forma automatizada de acceder y modificar esos valores"
   ]
  },
  {
   "cell_type": "code",
   "execution_count": 42,
   "metadata": {},
   "outputs": [],
   "source": [
    "notas = [ \n",
    "    [10, 10, 10, 30],\n",
    "    [20, 20, 20, 70],\n",
    "    [30, 30, 30, 90],\n",
    "    [40, 40, 40, 130]\n",
    "]"
   ]
  },
  {
   "cell_type": "code",
   "execution_count": 51,
   "metadata": {},
   "outputs": [
    {
     "name": "stdout",
     "output_type": "stream",
     "text": [
      "sumatorias actualizadas\n",
      "60\n",
      "90\n",
      "120\n",
      "[[10, 10, 10, 30], [20, 20, 20, 60], [30, 30, 30, 90], [40, 40, 40, 120]]\n"
     ]
    }
   ],
   "source": [
    "print(\"sumatorias actualizadas\")\n",
    "notas[1][3] = sum(notas[1][:3])\n",
    "print(notas[1][3])\n",
    "notas[2][3] = sum(notas[2][:3])\n",
    "print(notas[2][3])\n",
    "notas[3][3] = sum(notas[3][:3])\n",
    "print(notas[3][3])\n",
    "print(notas)"
   ]
  },
  {
   "cell_type": "markdown",
   "metadata": {},
   "source": [
    "**6) Supongamos que obtenemos una cadena de texto corrupta, esta al revés. Esta cadena contiene el nombre y el año de nacimiento de una persona. Formatear dicha cadena para obtener el siguiente formato:**\n",
    "\n",
    "* Empleado ***Nombre*** ***Apellido*** nacido en el año ***Año***\n",
    "\n",
    "*Pista: Para invertir el orden una cadena usando técnicas de slicing se puede utilizar un tercer índice -1: cadena[::-1]*\n"
   ]
  },
  {
   "cell_type": "code",
   "execution_count": 66,
   "metadata": {},
   "outputs": [
    {
     "name": "stdout",
     "output_type": "stream",
     "text": [
      "1985,Carlos Perez\n",
      "17\n",
      "Empleado: Carlos Perez nacido en el año 1985\n"
     ]
    }
   ],
   "source": [
    "cadena = \"zereP solraC,5891\"\n",
    "TextoReal = \"\".join(reversed(cadena))\n",
    "print(TextoReal)\n",
    "print(len(TextoReal))\n",
    "FormatoNombre = TextoReal[5:17]\n",
    "FormatoFecha = TextoReal[:4]\n",
    "print(\"Empleado:\", FormatoNombre, \"nacido en el año\", FormatoFecha)"
   ]
  },
  {
   "cell_type": "markdown",
   "metadata": {},
   "source": [
    "**7) Practiquemos con conjuntos:**\n",
    "* Crea un conjunto llamado mamíferos que tenga los elementos Gato, León, Caballo, Ballena y Tortuga\n",
    "* Crea un conjunto llamado peces que tenga los elementos Ballena y Sardina\n",
    "* Borra la Tortuga del conjunto mamiíferos\n",
    "* Añade el Pez Payaso al conjunto peces\n",
    "* Imprime los conjuntos por pantalla\n",
    "* Imprime por pantalla los elementos que se encuentren en ambos conjuntos, es decir, que sean mamíferos y peces"
   ]
  },
  {
   "cell_type": "code",
   "execution_count": 70,
   "metadata": {},
   "outputs": [
    {
     "name": "stdout",
     "output_type": "stream",
     "text": [
      "{'Caballo', 'León', 'Ballena', 'Gato'}\n",
      "{'Sardina', 'Pez Payaso', 'Ballena'}\n",
      "{'Ballena'}\n"
     ]
    }
   ],
   "source": [
    "mamíferos = { \"Gato\", \"León\", \"Caballo\", \"Ballena\", \"Tortuga\"}\n",
    "peces = {\"Ballena\", \"Sardina\"}\n",
    "mamíferos.discard(\"Tortuga\")\n",
    "print(mamíferos)\n",
    "peces.add(\"Pez Payaso\")\n",
    "print(peces)\n",
    "print(mamíferos & peces)"
   ]
  },
  {
   "cell_type": "markdown",
   "metadata": {},
   "source": [
    "**8) Practiquemos con diccionarios. Tenemos un diccionario que contiene una serie de productos. Realicemos las tres siguientes tareas:**\n",
    "* Ver productos\n",
    "* Subir el precio a todos los productos\n",
    "* Volver a ver todos los precios (para comprobar que el precio ha subido)\n",
    "\n",
    "Al inicio del programa, se mostrarán todos los productos, tienen que aparecer ordenados con el siguiente formato: <br><code>1 - Arduino - 30€</code><br>\n",
    "Posteriormente, a todos los productos se aplicará una subida del 50% a todos los precios de productos.<br>\n",
    "Y finalmente volveremos a mostrar todos los productos para comprobar la subida de precios."
   ]
  },
  {
   "cell_type": "code",
   "execution_count": 173,
   "metadata": {},
   "outputs": [
    {
     "name": "stdout",
     "output_type": "stream",
     "text": [
      "{'id': 1, 'producto': 'Arduino', 'precio': 30}\n",
      "{'id': 2, 'producto': 'Rpi    ', 'precio': 70}\n",
      "{'id': 3, 'producto': 'Print3D', 'precio': 300}\n",
      "Nuevo precio de los productos\n",
      "[45.0, 105.0, 450.0]\n"
     ]
    }
   ],
   "source": [
    "#opción 1\n",
    "productos = { 'id':[1,2,3], \n",
    "             'nombre':['Arduino', 'RPi', 'Print 3D'], \n",
    "             'precio': [30, 70, 300] \n",
    "            }\n",
    "#Generar formato (no al pie de la letra)\n",
    "p = {\n",
    "  1 : {\"id\" : 1,\n",
    "    \"producto\" : \"Arduino\",\n",
    "    \"precio\" : 30\n",
    "  },\n",
    "  2 : {\"id\" : 2,\n",
    "    \"producto\" : \"Rpi    \",\n",
    "    \"precio\" : 70\n",
    "  },\n",
    "  3 : {\"id\" : 3,\n",
    "    \"producto\" : \"Print3D\",\n",
    "    \"precio\" : 300\n",
    "  }\n",
    "} \n",
    "\n",
    "print (p[1])\n",
    "print (p[2])\n",
    "print (p[3])\n",
    "#Multiplicar los precios por 1.5 para calcular cuanto sería un aumento de 50% en los precios\n",
    "print(\"Nuevo precio de los productos\")\n",
    "productos[\"precio\"][0] *= 1.5\n",
    "productos[\"precio\"][1] *= 1.5\n",
    "productos[\"precio\"][2] *= 1.5\n",
    "print(productos[\"precio\"])"
   ]
  },
  {
   "cell_type": "code",
   "execution_count": 149,
   "metadata": {},
   "outputs": [
    {
     "name": "stdout",
     "output_type": "stream",
     "text": [
      "45.0\n",
      "105.0\n",
      "450.0\n"
     ]
    }
   ],
   "source": [
    "#opción 2\n",
    "productos = { 'id':[1,2,3], \n",
    "             'nombre':['Arduino', 'RPi', 'Print 3D'], \n",
    "             'precio': [30, 70, 300] \n",
    "            }\n",
    "for i in range(len(productos[\"precio\"])): #se genera un buvle para no repetir la misma operación\n",
    "    productos[\"precio\"][i] *= 1.5\n",
    "    print(productos[\"precio\"][i])"
   ]
  }
 ],
 "metadata": {
  "anaconda-cloud": {},
  "kernelspec": {
   "display_name": "Python 3 (ipykernel)",
   "language": "python",
   "name": "python3"
  },
  "language_info": {
   "codemirror_mode": {
    "name": "ipython",
    "version": 3
   },
   "file_extension": ".py",
   "mimetype": "text/x-python",
   "name": "python",
   "nbconvert_exporter": "python",
   "pygments_lexer": "ipython3",
   "version": "3.9.7"
  }
 },
 "nbformat": 4,
 "nbformat_minor": 1
}
