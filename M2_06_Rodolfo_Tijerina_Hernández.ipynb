{
 "cells": [
  {
   "cell_type": "markdown",
   "metadata": {},
   "source": [
    "# Ejercicios Modulo 2. Funciones\n"
   ]
  },
  {
   "cell_type": "markdown",
   "metadata": {},
   "source": [
    "**1) Realiza una función que devuelva el área de un rectángulo a partir de su base y su altura. La función se llamará area_rectangulo(). La base y la altura se pedirán al usuario por teclado.**\n",
    "\n",
    "*Nota: El área de un rectángulo se obtiene al multiplicar la base por la altura.*"
   ]
  },
  {
   "cell_type": "code",
   "execution_count": 11,
   "metadata": {},
   "outputs": [
    {
     "name": "stdout",
     "output_type": "stream",
     "text": [
      "base: 15\n",
      "altura :20\n",
      "el área del rectángulo son 300 mts.\n"
     ]
    }
   ],
   "source": [
    "def area_rectángulo(base = None, altura = None): \n",
    "     if base == None or altura == None:\n",
    "        print(\"Error, debes enviar dos números a la función\")\n",
    "        return\n",
    "     else:\n",
    "        area_rectángulo = base*altura\n",
    "        return area_rectángulo\n",
    "\n",
    "resultado = area_rectángulo(float(input(\"base en metros: \")), float(input(\"altura :\")))\n",
    "print(\"el área del rectángulo son {r} mts.\".format(r = resultado))"
   ]
  },
  {
   "cell_type": "markdown",
   "metadata": {},
   "source": [
    "**2) Realiza una función que devuelva el área de un círculo a partir de un radio. La función se llamará area_circulo(). El radio se pedirá al usuario por teclado:**\n",
    "\n",
    "Nota: El área de un círculo se obtiene al elevar el radio a dos y multiplicando el resultado por el número pi. Puedes utilizar el valor 3.14159 como pi o importarlo del módulo math:\n",
    "```python\n",
    "import math\n",
    "print(math.pi)\n",
    "> 3.1415...\n",
    "```"
   ]
  },
  {
   "cell_type": "code",
   "execution_count": 10,
   "metadata": {},
   "outputs": [
    {
     "name": "stdout",
     "output_type": "stream",
     "text": [
      "radio en metros: 35\n",
      "el área del rectángulo son 3848.44775 mts.\n"
     ]
    }
   ],
   "source": [
    "def area_circulo(radio = None): \n",
    "     if radio == None:\n",
    "        print(\"SUS jsjsjsjs\")\n",
    "        return\n",
    "     else:\n",
    "        area_circulo = (radio**2)*(3.14159) #pi*r^2\n",
    "        return area_circulo\n",
    "\n",
    "resultados = area_circulo(float(input(\"radio en metros: \")))\n",
    "print(\"el área del rectángulo son {s} mts.\".format(s = resultados))"
   ]
  },
  {
   "cell_type": "markdown",
   "metadata": {},
   "source": [
    "**3) Realiza una función llamada lee_numero() que solicite y lea por teclado un numero. Utilizar esta función para pedirle al usuario 3 números. Luego pasarle estos 3 números a una función que se llame mayor() que tenga 3 parámetros y que devuelva el número mayor de los 3:**"
   ]
  },
  {
   "cell_type": "code",
   "execution_count": null,
   "metadata": {},
   "outputs": [
    {
     "name": "stdout",
     "output_type": "stream",
     "text": [
      "Introduzca un valor: 1\n",
      "Introduzca un valor: 2\n",
      "Introduzca un valor: 3\n",
      "lista sin ordenar : [1, 2, 3]\n",
      "el valor máximo es: 3\n"
     ]
    }
   ],
   "source": [
    "def lee_numero():\n",
    "    num = []\n",
    "    for x in range(3):\n",
    "        num.append(int(input(\"Introduzca un valor: \")))\n",
    "    print(\"lista sin ordenar :\", num)\n",
    "    num.sort()\n",
    "    valorMax = num[N-1]\n",
    "    print(\"el valor máximo es:\", valorMax)\n",
    "    return lee_numero()\n",
    "print(lee_numero())"
   ]
  },
  {
   "cell_type": "markdown",
   "metadata": {},
   "source": [
    "## **4) Realizar una función llamada imc(). Esta función nos proporcionará el estado nutricional de una persona. Esto es; la clasificación de su índice de masa corporal (IMC), según la tabla proporcionada. La función recibirá el peso (en kilos) y la talla de una persona (en metros con dos decimales), datos a partir de los cuales se puede calcular el IMC cómo:**\n",
    "\n",
    "IMC = peso / (altura * altura)\n",
    "\n",
    "Clasificación: IMC (Kg/m^2)\n",
    "* Bajo peso:  < 18.50\n",
    "* Normal:      [18.50, 25.00)\n",
    "* Sobrepeso: >= 25.00\n",
    "* Obesidad: >= 30.00"
   ]
  },
  {
   "cell_type": "code",
   "execution_count": 7,
   "metadata": {},
   "outputs": [
    {
     "name": "stdout",
     "output_type": "stream",
     "text": [
      "CÁLCULO DEL ÍNDICE DE MASA CORPORAL (IMC)\n",
      "¿Cuánto kg pesa? 80\n",
      "¿Cuánto mide en metros? 1.75\n",
      "su imc es de 26.122448979591837\n",
      "Sobrepeso\n"
     ]
    }
   ],
   "source": [
    "def imc(peso, altura):\n",
    "    IMC = peso / (altura**2)\n",
    " \n",
    "    if IMC<18.5:\n",
    "        print(\"su imc es de\", IMC)\n",
    "        return \"Baso Peso\"\n",
    "    elif IMC>=18.5 and IMC<=25:\n",
    "        print(\"su imc es de\", IMC)\n",
    "        return \"Peso Normal\"\n",
    "    elif IMC>=25.01 and IMC<=29.99:\n",
    "        print(\"su imc es de\", IMC)\n",
    "        return \"Sobrepeso\"\n",
    "    elif IMC>=30:\n",
    "        print(\"su imc es de\", IMC)\n",
    "        return \"Obesidad\"\n",
    "    else:\n",
    "        print(\"¿cómo sigues vivo maestro?\")\n",
    "        \n",
    "print(\"CÁLCULO DEL ÍNDICE DE MASA CORPORAL (IMC)\")\n",
    "peso = float(input(\"¿Cuánto kg pesa? \"))\n",
    "altura = float(input(\"¿Cuánto mide en metros? \"))\n",
    "print(imc(peso, altura))"
   ]
  },
  {
   "cell_type": "markdown",
   "metadata": {},
   "source": [
    "**5) ¿Recuerdas este programa de la unidad de control de flujo?**\n",
    "\n",
    "Realiza un programa que realice las siguientes tareas:\n",
    "\n",
    "* Paso 1) solicite al usuario una contraseña y la guarde en una variable\n",
    "* Paso 2) pida al usuario introducir la contraseña para loguearse\n",
    "    * si la contraseña es correcta mostramos \"Login correcto\"\n",
    "    * si la contraseña no es correcta se le tendrá que mostrar un mensaje de \"Login fallido. Intento 1\", donde 1 será una variable contador que irá incrementandose hasta llegar a 5. En ese punto reiniciamos el programa y volveremos al Paso 1\n",
    "\n",
    "__Reestructura el ejercicio dividiéndolo al máximo en funciones.__"
   ]
  },
  {
   "cell_type": "code",
   "execution_count": null,
   "metadata": {
    "scrolled": true
   },
   "outputs": [
    {
     "name": "stdout",
     "output_type": "stream",
     "text": [
      "Usuario: amlover420\n",
      "¡Bienvenido amlover420!\n",
      "Introduzca su nueva contraseña: ironía\n",
      "Para acceder introduzca su contraseña: ironia\n",
      "Login fallido. Intento 1/5)\n",
      "Para acceder introduzca su contraseña: contraseña\n",
      "Login fallido. Intento 2/5)\n",
      "Para acceder introduzca su contraseña: contraseña\n",
      "Login fallido. Intento 3/5)\n",
      "Para acceder introduzca su contraseña: CONTRASEÑA\n",
      "Login fallido. Intento 4/5)\n",
      "Para acceder introduzca su contraseña: ¡CONTRASEÑA!\n",
      "Login fallido. Intento 5/5)\n",
      "None\n"
     ]
    }
   ],
   "source": [
    "while True: \n",
    "    def login(password):\n",
    "        for i in range(5):                                         \n",
    "            login = input(\"Para acceder introduzca su contraseña: \")\n",
    "            if login == password:                                \n",
    "                print(\"Login correcto, gracias\")                \n",
    "                break\n",
    "            else:                                         \n",
    "                fallos = i+1                              \n",
    "                print(f\"Login fallido. Intento {fallos}/5)\")\n",
    "            if login == password:        \n",
    "                break\n",
    "    user = input(\"Usuario: \")\n",
    "    password = input(\"¡Bienvenido {}!\\nIntroduzca su nueva contraseña: \".format(user))\n",
    "    print(login(password))"
   ]
  }
 ],
 "metadata": {
  "anaconda-cloud": {},
  "kernelspec": {
   "display_name": "Python 3 (ipykernel)",
   "language": "python",
   "name": "python3"
  },
  "language_info": {
   "codemirror_mode": {
    "name": "ipython",
    "version": 3
   },
   "file_extension": ".py",
   "mimetype": "text/x-python",
   "name": "python",
   "nbconvert_exporter": "python",
   "pygments_lexer": "ipython3",
   "version": "3.9.7"
  }
 },
 "nbformat": 4,
 "nbformat_minor": 1
}
